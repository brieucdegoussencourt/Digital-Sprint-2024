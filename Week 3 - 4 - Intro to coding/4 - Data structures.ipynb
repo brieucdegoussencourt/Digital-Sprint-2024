{
 "cells": [
  {
   "attachments": {},
   "cell_type": "markdown",
   "metadata": {},
   "source": [
    "# Data Structures\n",
    "\n",
    "Data structures are very important in programming. They store information for later processing. They are a type of variable and are declared in the same way. The three main types of data structures are:\n",
    "\n",
    "Lists (`list`)\n",
    "Tuples (`tuple`)\n",
    "Dictionaries (`dict`)\n",
    "Sets (`set`)"
   ]
  },
  {
   "cell_type": "markdown",
   "metadata": {},
   "source": [
    "## Lists"
   ]
  },
  {
   "cell_type": "markdown",
   "metadata": {},
   "source": [
    "Lists are sequences, ordered collections of objects separated by commas. They are declared with the indicating operator `[]`."
   ]
  },
  {
   "cell_type": "code",
   "execution_count": null,
   "metadata": {},
   "outputs": [],
   "source": [
    "buttons = [\"morning\", \"before lunch\", \"after lunch\", \"end of day\"]"
   ]
  },
  {
   "attachments": {},
   "cell_type": "markdown",
   "metadata": {},
   "source": [
    "A value can be accessed by indicating the index. Warning, the indexes always start from 0. It's a little disturbing at first, but you have to get used to it."
   ]
  },
  {
   "cell_type": "code",
   "execution_count": null,
   "metadata": {},
   "outputs": [],
   "source": [
    "print(buttons[0])"
   ]
  },
  {
   "cell_type": "markdown",
   "metadata": {},
   "source": [
    "We can specify that we only want the first two elements of the list."
   ]
  },
  {
   "cell_type": "code",
   "execution_count": null,
   "metadata": {},
   "outputs": [],
   "source": [
    "print(buttons[:2])"
   ]
  },
  {
   "cell_type": "markdown",
   "metadata": {},
   "source": [
    "We can also reverse the list."
   ]
  },
  {
   "cell_type": "code",
   "execution_count": null,
   "metadata": {},
   "outputs": [],
   "source": [
    "print(buttons[::-1])"
   ]
  },
  {
   "attachments": {},
   "cell_type": "markdown",
   "metadata": {},
   "source": [
    "You can also add a new element to a list:"
   ]
  },
  {
   "cell_type": "code",
   "execution_count": null,
   "metadata": {},
   "outputs": [],
   "source": [
    "buttons.append(\"before dinner\")\n",
    "print(buttons)"
   ]
  },
  {
   "cell_type": "markdown",
   "metadata": {},
   "source": [
    "You can put any type of data in it."
   ]
  },
  {
   "cell_type": "code",
   "execution_count": null,
   "metadata": {},
   "outputs": [],
   "source": [
    "var = \"Hello, I am a variable that contains String values.\"\n",
    "other_list = [193.45, \"Hello\", [\"Inception list\", \"Two elements\"], 89, var]\n",
    "print(other_list)"
   ]
  },
  {
   "cell_type": "markdown",
   "metadata": {},
   "source": [
    "You can also merge two lists."
   ]
  },
  {
   "cell_type": "code",
   "execution_count": null,
   "metadata": {},
   "outputs": [],
   "source": [
    "buttons = [\"morning\", \"before lunch\", \"after lunch\", \"end of day\"]\n",
    "extra_buttons = [\"before dinner\", \"after dinner\", \"time to sleep!\"]\n",
    "buttons.extend(extra_buttons)\n",
    "print(extra_buttons)\n",
    "\n",
    "# OR\n",
    "buttons = [\"morning\", \"before lunch\", \"after lunch\", \"end of day\"]\n",
    "extra_buttons = [\"before dinner\", \"after dinner\", \"time to sleep!\"]\n",
    "\n",
    "all_buttons = buttons + extra_buttons\n",
    "print(all_buttons)"
   ]
  },
  {
   "attachments": {},
   "cell_type": "markdown",
   "metadata": {},
   "source": [
    "#### Exercise\n",
    "\n",
    "1. By doing some research, try to print the following elements from the list buttons:\n",
    "\n",
    "- The last button of the day\n",
    "- The two last buttons of the day\n",
    "\n",
    "2. You can then add a button `\"Wake up\"` in the list before the start of the day and print the new two first buttons of the day"
   ]
  },
  {
   "cell_type": "code",
   "execution_count": null,
   "metadata": {},
   "outputs": [],
   "source": []
  },
  {
   "attachments": {},
   "cell_type": "markdown",
   "metadata": {},
   "source": [
    "## Tuples \n",
    "\n",
    "Python offers a type of data called `tuple`. It is similar to a list but cannot be modified: you cannot add anything in it and you cannot change the value of its elements. You can use them when want to be sure that the data transmitted is not modified by mistake within a program.\n",
    "\n",
    "They are declared with the indicating operator `()`."
   ]
  },
  {
   "cell_type": "code",
   "execution_count": null,
   "metadata": {},
   "outputs": [],
   "source": [
    "buttons_tuple = (\"morning\", \"before lunch\", \"after lunch\", \"end of day\")\n",
    "buttons_list = [\"morning\", \"before lunch\", \"after lunch\", \"end of day\"]"
   ]
  },
  {
   "attachments": {},
   "cell_type": "markdown",
   "metadata": {},
   "source": [
    "### `tuple` vs. `list`\n",
    "As we can see, when we try to modify the content of a `tuple` object, we get an error. However, no problem for the list."
   ]
  },
  {
   "cell_type": "code",
   "execution_count": null,
   "metadata": {},
   "outputs": [],
   "source": [
    "buttons_tuple.append(\"before dinner\")"
   ]
  },
  {
   "cell_type": "code",
   "execution_count": null,
   "metadata": {},
   "outputs": [],
   "source": [
    "buttons_list.append(\"before dinner\")\n",
    "print(buttons_list)"
   ]
  },
  {
   "attachments": {},
   "cell_type": "markdown",
   "metadata": {},
   "source": [
    "Also if we save a `list` variable in another variable and make a modification on one of the lists, both lists will be impacted."
   ]
  },
  {
   "cell_type": "code",
   "execution_count": null,
   "metadata": {},
   "outputs": [],
   "source": [
    "buttons_list_copy = buttons_list\n",
    "buttons_list_copy.append(\"after dinner\")\n",
    "\n",
    "print(buttons_list_copy)\n",
    "print(buttons_list)"
   ]
  },
  {
   "attachments": {},
   "cell_type": "markdown",
   "metadata": {},
   "source": [
    "So if you need to process a collection that will not change, use tuples. On the other hand, if you know that this collection will have to be changed, then use the lists.\n",
    "\n",
    "**Question:** Regarding the buttons from MyBecode, is it more relevant to use a `list` or a `tuple`? Why?"
   ]
  },
  {
   "attachments": {},
   "cell_type": "markdown",
   "metadata": {},
   "source": [
    "## Sets\n",
    "\n",
    "A set is an unordered collection of unique elements in Python. You can define in two ways:\n",
    "\n",
    "```python\n",
    "# Creating an empty set\n",
    "empty_set = set()\n",
    "\n",
    "# Creating a set with elements\n",
    "my_set = set([2, 3, 4, 1, 5])\n",
    "```\n",
    "\n",
    "or\n",
    "\n",
    "```python\n",
    "# Creating a set with elements\n",
    "my_set = {2, 3, 4, 1, 5}\n",
    "```\n",
    "\n",
    "Since the set is not ordered you cannot append an element and keep the order. But you can still `add` elements in the set:\n"
   ]
  },
  {
   "cell_type": "code",
   "execution_count": null,
   "metadata": {},
   "outputs": [],
   "source": [
    "my_set = set([2, 4, 3, 1, 5])\n",
    "my_set.add(6)\n",
    "print(my_set)"
   ]
  },
  {
   "attachments": {},
   "cell_type": "markdown",
   "metadata": {},
   "source": [
    "### `set` vs. `list`\n",
    "\n",
    "When you have unique elements and you don't care about the order, it is better to use a set than a list because the performance is better. This is due to the way we look for information in the data structure.\n",
    "\n",
    "Imagine that you have a list of guests for a party (and you know it by heart). When a guest is coming you have two ways of checking if he/she is well invited:\n",
    "\n",
    "- Go through the list of guests until you have the name. This is how a **list** is working.\n",
    "- Trust your memory to remember if the person was invited or not. This is how a **set** is working.\n",
    "\n",
    "This is related to computational complexity. It is not important to remember now but keep that example in mind."
   ]
  },
  {
   "attachments": {},
   "cell_type": "markdown",
   "metadata": {},
   "source": [
    "### Operations with sets\n",
    "\n",
    "Sets can be used to perform mathematical (logical) operations. You can check the union, intersection or difference between two sets\n",
    "\n",
    "Imagine that you have two groups of friends: one from Becode and another from your sport club. Some of them can be in both groups!"
   ]
  },
  {
   "cell_type": "code",
   "execution_count": null,
   "metadata": {},
   "outputs": [],
   "source": [
    "becode = {\"Louis\", \"Basile\", \"Mohammed\", \"Justine\", \"Senay\", \"Sofie\"}\n",
    "sport = {\"Remco\", \"Eden\", \"Mohammed\", \"Senay\"}\n",
    "\n",
    "# Union: include all friends from both groups\n",
    "print(\"Union:\", becode.union(sport))\n",
    "\n",
    "# Intersection: include only friends that are in both groups\n",
    "print(\"Intersection:\", becode.intersection(sport))\n",
    "\n",
    "# Difference: friends from Becode that are not in the sport group\n",
    "print(\"Difference:\", becode.difference(sport))\n",
    "\n",
    "# Symmetric difference (friends who are exclusive to one group)\n",
    "print(\"Symetric difference:\", becode.symmetric_difference(sport))"
   ]
  },
  {
   "attachments": {},
   "cell_type": "markdown",
   "metadata": {},
   "source": [
    "## Dictionaries\n",
    "\n",
    "A dictionary in Python is like a real-life dictionary or a phone book. It helps you store and organize information in pairs: a **unique** keyword (like a word in a dictionary or a person's name in a phone book) and its related information (like a definition in a dictionary or a phone number in a phone book). In Python, we call these unique keywords \"keys\" and their related information \"values.\" Dictionaries allow you to quickly find the value associated with a specific key.\n",
    "\n",
    "From a syntactic point of view, a dictionary structure is declared by a pair of braces. An empty dictionary will therefore be written as `{}`. You will probably have noticed that this is the same notation as a set. But this is different inside since we store pairs of elements and not unique elements.\n",
    "\n",
    "In dictionaries, indexes will be strings of characters, unlike lists.\n",
    "\n",
    "Since the dictionary type is a modifiable type, we can start by creating an empty dictionary and then fill it in little by little: "
   ]
  },
  {
   "cell_type": "code",
   "execution_count": null,
   "metadata": {},
   "outputs": [],
   "source": [
    "price_catalog = {}\n",
    "price_catalog[\"apple\"] = 0.5\n",
    "price_catalog[\"strawberry\"] = 0.8\n",
    "price_catalog[\"kiwi\"] = 1.2\n",
    "\n",
    "print(price_catalog)"
   ]
  },
  {
   "cell_type": "markdown",
   "metadata": {},
   "source": [
    "As you can see in the line above, a dictionary appears as a series of elements separated by commas (all enclosed between two braces). Each of these elements consists of a pair of objects: an index and a value, separated by a colon.\n",
    "\n",
    "In a dictionary, indexes are called keys, so elements can be called key-value pairs. You may notice that the order in which the elements appear in the last line does not correspond to the order in which we provided them. This is absolutely irrelevant: we will never try to extract a value from a dictionary using a numerical index. Instead, we will use the keys: "
   ]
  },
  {
   "cell_type": "code",
   "execution_count": null,
   "metadata": {},
   "outputs": [],
   "source": [
    "print(price_catalog[\"apple\"])\n",
    "print(price_catalog[\"kiwi\"])"
   ]
  },
  {
   "attachments": {},
   "cell_type": "markdown",
   "metadata": {},
   "source": [
    "Here, \"apple\" and \"kiwi\" are the keys, the price are the values."
   ]
  },
  {
   "cell_type": "markdown",
   "metadata": {},
   "source": [
    "Unlike lists, it is not necessary to use a particular method to add new elements to a dictionary: simply create a new key-value pair. "
   ]
  },
  {
   "cell_type": "code",
   "execution_count": null,
   "metadata": {},
   "outputs": [],
   "source": [
    "price_catalog[\"lemon\"] = 0.4\n",
    "print(price_catalog)"
   ]
  },
  {
   "attachments": {},
   "cell_type": "markdown",
   "metadata": {},
   "source": [
    "You can also update the value of a key"
   ]
  },
  {
   "cell_type": "code",
   "execution_count": null,
   "metadata": {},
   "outputs": [],
   "source": [
    "price_catalog[\"apple\"] = 0.6\n",
    "print(price_catalog)"
   ]
  },
  {
   "attachments": {},
   "cell_type": "markdown",
   "metadata": {},
   "source": [
    "It is also possible to remove a key-value pair from the dictionary by using the keyword `del`"
   ]
  },
  {
   "cell_type": "code",
   "execution_count": null,
   "metadata": {},
   "outputs": [],
   "source": [
    "del price_catalog[\"apple\"]\n",
    "print(price_catalog)"
   ]
  },
  {
   "attachments": {},
   "cell_type": "markdown",
   "metadata": {},
   "source": [
    "Last thing to know: if you try to get something that is not in the dictionary, you will face an error"
   ]
  },
  {
   "cell_type": "code",
   "execution_count": null,
   "metadata": {},
   "outputs": [],
   "source": [
    "print(price_catalog[\"orange\"])"
   ]
  },
  {
   "attachments": {},
   "cell_type": "markdown",
   "metadata": {},
   "source": [
    "## Exercises\n",
    "\n",
    "1. Create a list of 10 famous artists and print the list.\n",
    "2. Add a famous artist to the list of artists and print the updated list.\n",
    "3. Order the list alphabetically and print the three first artists.\n",
    "3. Create a tuple containing three famous artworks and print the tuple.\n",
    "4. Create a set of art styles and print the set.\n",
    "5. Add an art style to an existing set of art styles and print the updated set.\n",
    "6. Create a second set of art styles and print the common elements.\n",
    "7. Create a dictionary with famous artists as keys and their most known artwork as values.\n",
    "8. Add a new artist and his/her most famous artwork to the existing dictionary and print it.\n",
    "9. Access the most famous artwork of a specific artist in the dictionary and print it.\n",
    "10. Remove an artist and his/her artwork from the dictionary and print the updated dictionary."
   ]
  }
 ],
 "metadata": {
  "kernelspec": {
   "display_name": "Python 3.9.13 64-bit (microsoft store)",
   "language": "python",
   "name": "python3"
  },
  "language_info": {
   "codemirror_mode": {
    "name": "ipython",
    "version": 3
   },
   "file_extension": ".py",
   "mimetype": "text/x-python",
   "name": "python",
   "nbconvert_exporter": "python",
   "pygments_lexer": "ipython3",
   "version": "3.10.5"
  },
  "vscode": {
   "interpreter": {
    "hash": "5af58ead5434bcaec4ba320c097b4ab95f4d47b5cc097d838e053a401accc545"
   }
  }
 },
 "nbformat": 4,
 "nbformat_minor": 2
}
