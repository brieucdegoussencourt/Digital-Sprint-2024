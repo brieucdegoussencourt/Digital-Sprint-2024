{
 "cells": [
  {
   "attachments": {},
   "cell_type": "markdown",
   "metadata": {},
   "source": [
    "# The functions"
   ]
  },
  {
   "attachments": {},
   "cell_type": "markdown",
   "metadata": {},
   "source": [
    "A function is a block of code in a program that performs a specific task. It takes one or more inputs, known as arguments, and returns a value or performs some action based on those inputs. Functions are used to break down complex programs into smaller, more manageable pieces. As a result the code is easier to write, test and maintain.\n",
    "\n",
    "As you already know, Python gives you many built-in functions like `print()`, etc. but you can also create your own functions. \n",
    "\n",
    "Here are simple rules to define a function in Python.\n",
    "\n",
    "- Function blocks begin with the keyword `def` followed by the function name and brackets `()`. As for the variables, the function name should be meaningful and self-explained (we must be able to understand the behaviour of the function by reading its name)\n",
    "- The (optional) input parameters should be placed within these brackets.\n",
    "- The code block within every function starts with a colon `:` and is indented.\n",
    "- The `return` statements exits a function, optionally passing back a result to the caller. A return statement with no arguments is the same as `return None`.\n",
    "\n",
    "There are always two \"stages\" for a function:\n",
    "- Its definition (starting with `def`): defines what to do based on expected parameters\n",
    "- Its call: executes the function with given arguments\n",
    "\n",
    "Let's create a function that says hello and welcomes you:"
   ]
  },
  {
   "cell_type": "code",
   "execution_count": null,
   "metadata": {},
   "outputs": [],
   "source": [
    "# Definition of the function\n",
    "def hello(name): # --> name is the parameter\n",
    "    print(\"Hello \" + name + \"!\")"
   ]
  },
  {
   "attachments": {},
   "cell_type": "markdown",
   "metadata": {},
   "source": [
    "Here nothing happens. The function exists but is not executed yet. Now, let's call the function:"
   ]
  },
  {
   "cell_type": "code",
   "execution_count": null,
   "metadata": {},
   "outputs": [],
   "source": [
    "hello(\"Louis\") # --> Louis is the argument"
   ]
  },
  {
   "attachments": {},
   "cell_type": "markdown",
   "metadata": {},
   "source": [
    "A parameter is a variable in a function definition. When a function is called, the arguments are the data you pass into the function's parameters.\n",
    "\n",
    "Parameter is variable in the declaration of function. Argument is the actual value of this variable that gets passed to function.\n",
    "\n",
    "A function can expect several arguments. Let's try to define and call a function `addition` that takes two numbers as arguments and returns their sum:"
   ]
  },
  {
   "cell_type": "code",
   "execution_count": null,
   "metadata": {},
   "outputs": [],
   "source": [
    "# Definition of the function\n",
    "def addition(a, b): # --> a and b are the parameters\n",
    "    return a + b\n",
    "\n",
    "# Call to the function\n",
    "print(addition(1, 2)) # --> 1 and 2 are the arguments"
   ]
  },
  {
   "attachments": {},
   "cell_type": "markdown",
   "metadata": {},
   "source": [
    "## A parameter is required\n",
    "\n",
    "If we proceed as above, passing an argument becomes mandatory. But we have the possibility to assign a default value in case the user does not pass an argument. You can have a look to the following example and try to explain what happened:"
   ]
  },
  {
   "cell_type": "code",
   "execution_count": null,
   "metadata": {},
   "outputs": [],
   "source": [
    "def hello(name=\"Anonymous\"):  # <- Parameter\n",
    "    print(f\"Hello {name} and welcome!\")\n",
    "\n",
    "print(hello())  # <- No argument\n",
    "print(hello(\"Louis\")) # <- Argument"
   ]
  },
  {
   "attachments": {},
   "cell_type": "markdown",
   "metadata": {},
   "source": [
    "## Scope of variables (global and local variables)"
   ]
  },
  {
   "attachments": {},
   "cell_type": "markdown",
   "metadata": {},
   "source": [
    "The scope of a variable refers to the places that you can see or access a variable.\n",
    "\n",
    "If you define a variable at the top level of your script, module or notebook, this is a global variable."
   ]
  },
  {
   "cell_type": "code",
   "execution_count": null,
   "metadata": {},
   "outputs": [],
   "source": [
    "my_var = \"This is a global variable\""
   ]
  },
  {
   "attachments": {},
   "cell_type": "markdown",
   "metadata": {},
   "source": [
    "The variable is global because any Python function or class defined in this module or notebook, is able to access this variable. Example:"
   ]
  },
  {
   "cell_type": "code",
   "execution_count": null,
   "metadata": {},
   "outputs": [],
   "source": [
    "my_var = \"This is a global variable\"\n",
    "\n",
    "\n",
    "def print_my_var():\n",
    "    print(my_var)\n",
    "\n",
    "\n",
    "print_my_var()"
   ]
  },
  {
   "attachments": {},
   "cell_type": "markdown",
   "metadata": {},
   "source": [
    "On the other hand, if the variable is declared and assigned in a function or class, this variable is variable local. It is not available in the rest of your code."
   ]
  },
  {
   "cell_type": "code",
   "execution_count": null,
   "metadata": {},
   "outputs": [],
   "source": [
    "def declare():\n",
    "    var_local = \"This is a local variable\"\n",
    "\n",
    "declare()\n",
    "print(var_local)"
   ]
  },
  {
   "attachments": {},
   "cell_type": "markdown",
   "metadata": {},
   "source": [
    "## Let's practice\n",
    "\n",
    "Based on what you discovered today and on some external research, write a **Python function** for each of the following problems. Very important: Pay attention to the function names (they must be self-explained):\n",
    "\n",
    "1. Take a string as input and return `True` if the string is a palindrome (reads the same backward and forward) and `False` otherwise.\n",
    "2. Take two numbers and check if the first one is divisible by the second one\n",
    "3. Take a full name and return the initials (\"Becode Ghent\" > \"BG\")\n",
    "4. Take a list of words as input and return the longest word in the list\n",
    "5. Take an integer and return the sum of its digits\n",
    "6. Take a price and an exchange rate and return the converted price based on the exchange rate\n",
    "7. Take a password and validate it by returning `True` or `False` (conditions: more than 8 characters, at least one not alpha-numerical character)\n",
    "8. Take a radius and return the area of a circle\n",
    "9. Take a string and return the reversed word (\"bla\" > \"alb\")\n",
    "10. Take two numbers and return their multiplication"
   ]
  },
  {
   "cell_type": "code",
   "execution_count": null,
   "metadata": {},
   "outputs": [],
   "source": []
  }
 ],
 "metadata": {
  "kernelspec": {
   "display_name": "Python 3",
   "language": "python",
   "name": "python3"
  },
  "language_info": {
   "codemirror_mode": {
    "name": "ipython",
    "version": 3
   },
   "file_extension": ".py",
   "mimetype": "text/x-python",
   "name": "python",
   "nbconvert_exporter": "python",
   "pygments_lexer": "ipython3",
   "version": "3.10.5"
  }
 },
 "nbformat": 4,
 "nbformat_minor": 2
}
