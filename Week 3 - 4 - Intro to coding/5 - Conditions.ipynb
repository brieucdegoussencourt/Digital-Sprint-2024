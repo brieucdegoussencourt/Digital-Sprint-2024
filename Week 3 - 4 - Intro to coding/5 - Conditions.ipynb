{
 "cells": [
  {
   "attachments": {},
   "cell_type": "markdown",
   "metadata": {},
   "source": [
    "# Conditions\n",
    "\n",
    "This notion is one of the most important ones in programming. It introduces logic and allows us to create algorithms.\n",
    "\n",
    "The conditions control the flow of a program by determining which sections of the code should be executed based on specific criteria. \n",
    "\n",
    "The idea is to express this: \n",
    "````\n",
    "- If the variable is equal to something then:\n",
    "    - Do an action\n",
    "- If not, then:\n",
    "    - Do another action \n",
    "````"
   ]
  },
  {
   "attachments": {},
   "cell_type": "markdown",
   "metadata": {},
   "source": [
    "## Comparison operators\n",
    "\n",
    "As you saw before the conditions are mainly based on comparisons (is equal, is different, is greater...). To express this we use comparison operators. These operators compare the values on either side of the operands and determine the relation between them. It is also referred as relational operators. Here is the list of the main operators:\n",
    "\n",
    "<table>\n",
    "<tbody>\n",
    "<tr>\n",
    "<th>Operator</th>\n",
    "<th >Description</th>\n",
    "</tr>\n",
    "<tr>\n",
    "<td >==</td>\n",
    "<td>If the values of two operands are equal, then the condition becomes true.</td>\n",
    "</tr>\n",
    "<tr>\n",
    "<td >!=</td>\n",
    "<td>If values of two operands are not equal, then condition becomes true.</td>\n",
    "</tr>\n",
    "<tr>\n",
    "<td >></td>\n",
    "<td>If the value of left operand is greater than the value of right operand, then condition becomes true.</td>\n",
    "</tr>\n",
    "<tr>\n",
    "<td ><</td>\n",
    "<td>If the value of left operand is less than the value of right operand, then condition becomes true.</td>\n",
    "</tr>\n",
    "<tr>\n",
    "<td >>=</td>\n",
    "<td>If the value of left operand is greater than or equal to the value of right operand, then condition becomes true.</td>\n",
    "</tr>\n",
    "<tr>\n",
    "<td ><=</td>\n",
    "<td>If the value of left operand is less than or equal to the value of right operand, then condition becomes true.</td>\n",
    "</tr>\n",
    "</tbody>\n",
    "</table>\n",
    "\n",
    "\n",
    "Let's try it. We create 2 variables and assign two values to them. Take your age and the age of one of your teammates. Then we will do some basic comparison. You can play with the code here below by changing the operators and checking the results:"
   ]
  },
  {
   "cell_type": "code",
   "execution_count": null,
   "metadata": {},
   "outputs": [],
   "source": [
    "my_age = 34\n",
    "your_age = 23\n",
    "\n",
    "print(my_age > your_age)  "
   ]
  },
  {
   "attachments": {},
   "cell_type": "markdown",
   "metadata": {},
   "source": [
    "As you see the result of these comparisons are boolean variables. They are also used fo evaluate conditions. The boolean values `True` and `False` are returned when an expression is compared or evaluated. For example:"
   ]
  },
  {
   "cell_type": "code",
   "execution_count": null,
   "metadata": {},
   "outputs": [],
   "source": [
    "x = 2\n",
    "print(x == 2)  # prints out True\n",
    "print(x == 3)  # prints out False\n",
    "print(x < 3)  # prints out True"
   ]
  },
  {
   "attachments": {},
   "cell_type": "markdown",
   "metadata": {},
   "source": [
    "## Conditional statements\n",
    "\n",
    "We will now use those comparisons to include them in actual condition statements\n",
    "\n",
    "Python uses indentation to define code blocks, instead of brackets. Notice that code blocks do not need any termination.\n",
    "\n",
    "Here is an example for using Python's `if` statement using code blocks:"
   ]
  },
  {
   "cell_type": "code",
   "execution_count": null,
   "metadata": {},
   "outputs": [],
   "source": [
    "age = 23\n",
    "if age >= 18:\n",
    "    print(\"You're an adult!\")"
   ]
  },
  {
   "attachments": {},
   "cell_type": "markdown",
   "metadata": {},
   "source": [
    "We can use the program to do an action when the condition is met. But we can tell also tell it to do something if this is *not* the case. For this we are using `else`:"
   ]
  },
  {
   "cell_type": "code",
   "execution_count": null,
   "metadata": {},
   "outputs": [],
   "source": [
    "age = 23\n",
    "if age >= 18:\n",
    "    print(\"You're an adult!\")\n",
    "else:\n",
    "    print(\"You are a child!\")"
   ]
  },
  {
   "attachments": {},
   "cell_type": "markdown",
   "metadata": {},
   "source": [
    "For complexifying things we can also use `elif`. This a conditional statement that allows for additional conditions to be tested after an initial \"if\" statement, providing an alternative path of execution if the preceding condition(s) are not met:"
   ]
  },
  {
   "cell_type": "code",
   "execution_count": null,
   "metadata": {},
   "outputs": [],
   "source": [
    "age = 16\n",
    "if age >= 18:\n",
    "    print(\"You're an adult!\")\n",
    "elif age == 17:\n",
    "    print(\"You are one year short of being an adult.\")\n",
    "else:\n",
    "    print(\"Come back later.\")"
   ]
  },
  {
   "attachments": {},
   "cell_type": "markdown",
   "metadata": {},
   "source": [
    "## Logical operators\n",
    "\n",
    "You can also combine some statement by using logical operators like `and`, `or`, and `not`. These operators are employed to define specific conditions.\n",
    "\n",
    "The \"and\" and \"or\" boolean operators enable the creation of intricate boolean expressions, as demonstrated in the following examples:"
   ]
  },
  {
   "cell_type": "code",
   "execution_count": null,
   "metadata": {},
   "outputs": [],
   "source": [
    "age = 18\n",
    "\n",
    "if age >= 18 and age <= 67:\n",
    "    print(\"You are in age to work in Belgium\")\n",
    "elif age < 18:\n",
    "    print(\"You are too young to work in Belgium\")\n",
    "else:\n",
    "    print(\"Enjoy your retirement\")"
   ]
  },
  {
   "cell_type": "code",
   "execution_count": null,
   "metadata": {},
   "outputs": [],
   "source": [
    "age = 18\n",
    "\n",
    "if age < 18 or age > 67:\n",
    "    print(\"You are not in age to work in Belgium\")\n",
    "else:\n",
    "    print(\"You are in age to work in Belgium\")"
   ]
  },
  {
   "attachments": {},
   "cell_type": "markdown",
   "metadata": {},
   "source": [
    "The \"in\" operator could be used to check if a specified object exists within an iterable object container, such as a `list` or a `set`:"
   ]
  },
  {
   "cell_type": "code",
   "execution_count": null,
   "metadata": {},
   "outputs": [],
   "source": [
    "drink = \"whisky\"\n",
    "allowed_drinks = [\"coffee\", \"thee\", \"water\"]\n",
    "if drink in allowed_drinks:\n",
    "    print(\"Cheers!\")\n",
    "else:\n",
    "    print(\"Don't drink that!\")"
   ]
  },
  {
   "attachments": {},
   "cell_type": "markdown",
   "metadata": {},
   "source": [
    "The \"not\" operator is used before a boolean expression to invert it:"
   ]
  },
  {
   "cell_type": "code",
   "execution_count": null,
   "metadata": {},
   "outputs": [],
   "source": [
    "print(not False)  # Prints out True\n",
    "print((not False) == (False))  # Prints out False"
   ]
  },
  {
   "cell_type": "code",
   "execution_count": null,
   "metadata": {},
   "outputs": [],
   "source": [
    "if drink not in allowed_drinks:\n",
    "    print(\"Don't drink that\")\n",
    "else:\n",
    "    print(\"Cheers!\")"
   ]
  },
  {
   "attachments": {},
   "cell_type": "markdown",
   "metadata": {},
   "source": [
    "## Let's practice\n",
    "\n",
    "Based on what you discovered today and on some external research, write a Python code for each of those problems by using conditional statements:\n",
    "\n",
    "1. Determine if a number is even or odd\n",
    "2. Print the largest number among 3 numbers\n",
    "3. Check if a given year is a leap year or not\n",
    "4. Check wheter a letter is a vowel or a consonant\n",
    "5. Caculate the BMI of a person based on his weight and height, and grade it as follows:\n",
    "    - < 20: A\n",
    "    - 20-25: B\n",
    "    - 25-30: C\n",
    "    - \\>30: D\n",
    "6. Based on two numbers print \"Equal\" if they are equal, \"Greater\" if the first number is greater, or \"Smaller\" if the second number is greater\n",
    "7. Ask a user for a temperature in Celsius and a system to convert to (Fahrenheit or Kelvin). Print the right conversion depending on the input.\n",
    "8. Create a Python program that checks if a given character is an uppercase letter, a lowercase letter, a digit, or a special character"
   ]
  }
 ],
 "metadata": {
  "kernelspec": {
   "display_name": "Python 3.9.13 64-bit (microsoft store)",
   "language": "python",
   "name": "python3"
  },
  "language_info": {
   "codemirror_mode": {
    "name": "ipython"
   },
   "file_extension": ".py",
   "mimetype": "text/x-python",
   "name": "python",
   "nbconvert_exporter": "python",
   "version": "3.9.13"
  },
  "vscode": {
   "interpreter": {
    "hash": "5af58ead5434bcaec4ba320c097b4ab95f4d47b5cc097d838e053a401accc545"
   }
  }
 },
 "nbformat": 4,
 "nbformat_minor": 2
}
