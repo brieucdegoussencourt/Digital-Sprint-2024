{
 "cells": [
  {
   "attachments": {},
   "cell_type": "markdown",
   "metadata": {},
   "source": [
    "# Variables, data types and operations\n",
    "\n",
    "Let's start with the very basics of Python. Each programming language relies on **variables** that have a defined **type**. Based on this type you can perform certain **operations**. This is what we will see here."
   ]
  },
  {
   "attachments": {},
   "cell_type": "markdown",
   "metadata": {},
   "source": [
    "## Variables\n",
    "\n",
    "In programming, a variable is a temporary storage location in the memory of the computer which allows to store a value or a data. Each variable has a **name** and a **value**. The name is a reference: it allows to reuse the value several times in the program.\n",
    "\n",
    "In Python, to create a variable, we use the name of the variable followed by an equal sign (`=`) and the value we want to store. For example, to create a variable named `age` and assign it the value `30`, we use the following syntax:"
   ]
  },
  {
   "cell_type": "code",
   "execution_count": null,
   "metadata": {},
   "outputs": [],
   "source": [
    "age = 34"
   ]
  },
  {
   "attachments": {},
   "cell_type": "markdown",
   "metadata": {},
   "source": [
    "You can use the **keyword** `print` for displaying the value of the variable that you have created:"
   ]
  },
  {
   "cell_type": "code",
   "execution_count": null,
   "metadata": {},
   "outputs": [],
   "source": [
    "print(age)"
   ]
  },
  {
   "attachments": {},
   "cell_type": "markdown",
   "metadata": {},
   "source": [
    "## Data Types\n",
    "There are different types of things you can store in a variable, like numbers or words. We call these different types of things \"data types.\"\n",
    "\n",
    "- Integers (`int`): These are whole numbers, like `1`, `2`, `3`, and so on.\n",
    "- Floats (`float`): These are numbers with a decimal point, like `1.5` or `3.14159`.\n",
    "- Strings (`str`): These are words or phrases, like `\"Hello, world!\"` or `\"Python is fun!\"`. They are always surrounded by quotes.\n",
    "- Booleans (`bool`): These are values that are either `True` or `False`.\n",
    "\n",
    "**Exercise**\n",
    "\n",
    "In the next box you can create 4 variables with a **meaningful name** and the appropriate data type. The first one will contain your **first name**, the second one **your age**, the third one your **height** (in meters) and the last one **whether you are born in Belgium**."
   ]
  },
  {
   "cell_type": "code",
   "execution_count": null,
   "metadata": {},
   "outputs": [],
   "source": []
  },
  {
   "attachments": {},
   "cell_type": "markdown",
   "metadata": {},
   "source": [
    "In the next box of code you can print the value of each variable that you have created:"
   ]
  },
  {
   "cell_type": "code",
   "execution_count": null,
   "metadata": {},
   "outputs": [],
   "source": []
  },
  {
   "attachments": {},
   "cell_type": "markdown",
   "metadata": {},
   "source": [
    "We can also explore the type of each of the variables we have created by using the **keyword** `type`. Modify the code below to check the type of each of the variables:"
   ]
  },
  {
   "cell_type": "code",
   "execution_count": null,
   "metadata": {},
   "outputs": [],
   "source": [
    "print(type(age))"
   ]
  },
  {
   "attachments": {},
   "cell_type": "markdown",
   "metadata": {},
   "source": [
    "It is also possible to modify the value of the variable. All you have to do is assign it a new value, which will automatically overwrite the previous one. Feel free to modify the code below to modify the value of the variables you have created. You can then check the value and type after each change"
   ]
  },
  {
   "cell_type": "code",
   "execution_count": null,
   "metadata": {},
   "outputs": [],
   "source": [
    "age = 34.5\n",
    "print(age)\n",
    "print(type(age))"
   ]
  },
  {
   "attachments": {},
   "cell_type": "markdown",
   "metadata": {},
   "source": [
    "## Good practices: naming and code writing conventions\n",
    "As in many programming languages, to name a variable, some conventions must be respected.\n",
    "\n",
    "#### 1. The name of the variable must start with a **letter or an underscore**. The variable can not start with a number or a hyphen.         \n",
    "\n",
    "❌ Bad example :\n",
    "```py\n",
    "# Do not do this\n",
    "2Name = \"James\" \n",
    "\n",
    "# Do not do this\n",
    "-name = \"James\"\n",
    "\n",
    "```\n",
    "\n",
    "✅ Good example :\n",
    "```py\n",
    "# Do this\n",
    "name = \"James\" \n",
    "\n",
    "# Do this\n",
    "_name = \"James\"\n",
    "\n",
    "```\n",
    "#### 2. **Never put space between words.** \n",
    "\n",
    "❌ Bad example :\n",
    "```py\n",
    "# Do not do this\n",
    "My name = \"Odile\" \n",
    "```\n",
    "\n",
    "✅ Good example :\n",
    "```py\n",
    "# DO is\n",
    "my_name = \"Odile\"\n",
    "\n",
    "```\n",
    "\n",
    "#### 3. No accents on the names of variables. **Use only English**\n",
    "\n",
    "❌ Bad example :\n",
    "```py\n",
    "# Do not do this\n",
    "prénom = \"Odile\" \n",
    "```\n",
    "\n",
    "✅ Good example :\n",
    "```py\n",
    "# Do this\n",
    "first_name = \"Odile\" \n",
    "```\n",
    "\n",
    "#### 4. **Always give an explicit name** to the variable.\n",
    "\n",
    "❌ Bad example :\n",
    "```py\n",
    "# Do not do this\n",
    "a = \"Odile\" \n",
    "\n",
    "# Do not do this\n",
    "fstnme = \"Odile\"\n",
    "\n",
    "```\n",
    "\n",
    "✅ Good example :\n",
    "```py\n",
    "# Do this\n",
    "first_name = \"Odile\" \n",
    "\n",
    "# Do this\n",
    "magic_potion = 42\n",
    "\n",
    "```"
   ]
  },
  {
   "attachments": {},
   "cell_type": "markdown",
   "metadata": {},
   "source": [
    "### Time to check\n",
    "\n",
    "Have a look back to the variables you have created here above (your age, weight, name...) and correct them to ensure they fit the Python naming conventions."
   ]
  },
  {
   "attachments": {},
   "cell_type": "markdown",
   "metadata": {},
   "source": [
    "## Arithmetic Operators\n",
    "\n",
    "The basic operations in programming are mathematical operations. They allow you to make calculations from variables and are used exactly as you learned in primary school. The main operations are:\n",
    "\n",
    "- `+`: addition\n",
    "- `-`: subtraction\n",
    "- `*`: multiplication\n",
    "- `/`: division\n",
    "\n",
    "You can also use the following operations:\n",
    "\n",
    "- `//`: floor division (gives your the result of the division without the decimal part) => `5 // 2 = 2`\n",
    "- `%`: modulo (gives you the remainder when you divide two numbers) => `5 % 2 = 1`\n",
    "- `**`: exponentiation (raising a number to a power) => `5 ** 2 = 25`\n",
    "\n",
    "If you execute the following code it will print the result of the operation. You can test some operations to see what it comes out:"
   ]
  },
  {
   "cell_type": "code",
   "execution_count": null,
   "metadata": {},
   "outputs": [],
   "source": [
    "4 * 10"
   ]
  },
  {
   "attachments": {},
   "cell_type": "markdown",
   "metadata": {},
   "source": [
    "In those operations you can also use variables that you have created prior:"
   ]
  },
  {
   "cell_type": "code",
   "execution_count": null,
   "metadata": {},
   "outputs": [],
   "source": [
    "first_number = 3\n",
    "second_number = 4\n",
    "\n",
    "first_number + second_number"
   ]
  },
  {
   "attachments": {},
   "cell_type": "markdown",
   "metadata": {},
   "source": [
    "### Let's practice\n",
    "In the next box, you will compute the BMI of the most famous people in the world (according to [this website](https://www.watson.ch/fr/soci%C3%A9t%C3%A9/cartes%20du%20monde/536739924-voici-la-personne-la-plus-connue-de-chaque-ville-dans-le-monde)): Barack Obama.\n",
    "\n",
    "Here are some data about him:\n",
    "\n",
    "- First name: Barack\n",
    "- Middle name: Hussein\n",
    "- Last name: Obama\n",
    "- Date of birth: 04/08/1961\n",
    "- Age: We let you compute it\n",
    "- Place of birth: Honolulu\n",
    "- Nationality: USA\n",
    "- Height: 187 cm\n",
    "- Weight: 79 kg\n",
    "\n",
    "Look on Internet how to calculate the BMI and do it in python by using variables and arithmetic operators"
   ]
  },
  {
   "cell_type": "code",
   "execution_count": null,
   "metadata": {},
   "outputs": [],
   "source": []
  },
  {
   "attachments": {},
   "cell_type": "markdown",
   "metadata": {},
   "source": [
    "### Some more practice"
   ]
  },
  {
   "attachments": {},
   "cell_type": "markdown",
   "metadata": {},
   "source": [
    "For those exercises we ask you to use variables. For the more complex ones, think to the order of operations!\n",
    "\n",
    "Write Python programs to solve each of those problems:\n",
    "\n",
    "1. You have 100€ in cash and 1290€ on your bank account. How much money do you have in total?\n",
    "2. You are in a shop and you would like to buy 12 bottles of water (0.77€ each). How much will it cost?\n",
    "3. You have paid the 12 bottles in cash. How much money do you have left in total?\n",
    "4. You have three children and they would like to go in holiday. They ask you 100, 200 and 400€ respectively. What is the average cost of their holidays?\n",
    "5. Forget, it's too expensive. You decide to go to US instead. Before booking your tickets you check the weather in New York. You see that it's 40°F. Is it hot or cold? You need to check. Use the following formula to convert the temperature in °C: `C = (F - 32) * 5/9` (**Bonus**: find the way to display the rounded result)\n",
    "6. Oooopsie, it's too cold and too far. You decide to look for another destination in a radius of 1000km. What is the area of the region you are targeting? (**Bonus**: by doing some Google search, find a clean way to instantiate `pi`)\n",
    "7. Finally you decide to stay here. Thanks to Becode you will become rich so you decide to give your fortune to your children. Since you are fair you will distribute your money evenly, without bother them with pennies. Since you have 3 children:\n",
    "    - How much will receive each of them?\n",
    "    - What will remain for you?"
   ]
  },
  {
   "cell_type": "code",
   "execution_count": null,
   "metadata": {},
   "outputs": [],
   "source": []
  }
 ],
 "metadata": {
  "kernelspec": {
   "display_name": "Python 3",
   "language": "python",
   "name": "python3"
  },
  "language_info": {
   "codemirror_mode": {
    "name": "ipython",
    "version": 3
   },
   "file_extension": ".py",
   "mimetype": "text/x-python",
   "name": "python",
   "nbconvert_exporter": "python",
   "pygments_lexer": "ipython3",
   "version": "3.10.5"
  },
  "orig_nbformat": 4
 },
 "nbformat": 4,
 "nbformat_minor": 2
}
